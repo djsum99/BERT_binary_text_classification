{
 "cells": [
  {
   "cell_type": "code",
   "execution_count": 1,
   "metadata": {},
   "outputs": [],
   "source": [
    "import pandas as pd\n",
    "import numpy as np\n",
    "from sklearn.model_selection import train_test_split\n",
    "from sklearn.feature_extraction.text import TfidfVectorizer\n",
    "from nltk.stem import SnowballStemmer\n",
    "from sklearn.linear_model import LogisticRegression\n",
    "from sklearn import metrics\n",
    "\n",
    "\n",
    "from pytorch_pretrained_bert import BertTokenizer"
   ]
  },
  {
   "cell_type": "code",
   "execution_count": 2,
   "metadata": {
    "collapsed": true
   },
   "outputs": [
    {
     "name": "stdout",
     "output_type": "stream",
     "text": [
      "3019\n"
     ]
    }
   ],
   "source": [
    "#Extracting text data from pos and neg files and labeling the texts with the correct labels.\n",
    "#Then splitting the data into x data and y data\n",
    "\n",
    "#Preprocessing techniques will vary for different datasets\n",
    "\n",
    "neg = pd.read_csv('freeletics/neg1.csv')\n",
    "pos = pd.read_csv('freeletics/pos1.csv')\n",
    "\n",
    "y_neg = np.zeros((len(neg),1)).astype(int)\n",
    "y_pos = np.ones((len(pos),1)).astype(int)\n",
    "\n",
    "print(len(y_neg)+len(y_pos))\n",
    "\n",
    "neg_messages = neg.values[:,[2]]\n",
    "pos_messages = pos.values[:,[2]]\n",
    "\n",
    "x_data = np.vstack((neg_messages,pos_messages))\n",
    "y_data = np.vstack((y_neg,y_pos))"
   ]
  },
  {
   "cell_type": "code",
   "execution_count": 3,
   "metadata": {
    "collapsed": true
   },
   "outputs": [
    {
     "name": "stdout",
     "output_type": "stream",
     "text": [
      "[[ 86 146]\n",
      " [ 19 504]]\n",
      "              precision    recall  f1-score   support\n",
      "\n",
      "           0       0.82      0.37      0.51       232\n",
      "           1       0.78      0.96      0.86       523\n",
      "\n",
      "    accuracy                           0.78       755\n",
      "   macro avg       0.80      0.67      0.68       755\n",
      "weighted avg       0.79      0.78      0.75       755\n",
      "\n"
     ]
    },
    {
     "name": "stderr",
     "output_type": "stream",
     "text": [
      "/Users/dansumetsky/Projects/env/lib/python3.7/site-packages/sklearn/linear_model/logistic.py:432: FutureWarning: Default solver will be changed to 'lbfgs' in 0.22. Specify a solver to silence this warning.\n",
      "  FutureWarning)\n",
      "/Users/dansumetsky/Projects/env/lib/python3.7/site-packages/sklearn/utils/validation.py:724: DataConversionWarning: A column-vector y was passed when a 1d array was expected. Please change the shape of y to (n_samples, ), for example using ravel().\n",
      "  y = column_or_1d(y, warn=True)\n"
     ]
    }
   ],
   "source": [
    "#The SnowballStemmer is able to tokenize words so that they are represented as vectors. Each word was turned into\n",
    "#a vector and that became my x data.\n",
    "\n",
    "stem_tokenizer = SnowballStemmer(\"english\")\n",
    "tfidf_params = {\n",
    "            'ngram_range': (1, 2),\n",
    "            'max_features': 1000,\n",
    "            'tokenizer': BertTokenizer.from_pretrained('bert-base-cased', do_lower_case=False),\n",
    "            'binary': True\n",
    "        }\n",
    "\n",
    "corpus = np.ravel(x_data)\n",
    "vectorizer = TfidfVectorizer(tfidf_params)\n",
    "X = vectorizer.fit_transform(corpus)\n",
    "\n",
    "#splitting into training and testing sets\n",
    "\n",
    "X_train, X_test, y_train, y_test = train_test_split(X, y_data, test_size=0.25)\n",
    "\n",
    "#Logistic Regression\n",
    "\n",
    "logreg = LogisticRegression()\n",
    "logreg.fit(X_train,y_train)\n",
    "y_pred=logreg.predict(X_test)\n",
    "\n",
    "\n",
    "cnf_matrix = metrics.confusion_matrix(y_test, y_pred)\n",
    "print(cnf_matrix)\n",
    "print(metrics.classification_report(y_pred=y_pred, y_true=y_test))"
   ]
  },
  {
   "cell_type": "code",
   "execution_count": 23,
   "metadata": {
    "collapsed": true
   },
   "outputs": [
    {
     "name": "stdout",
     "output_type": "stream",
     "text": [
      "[[ 86 131]\n",
      " [ 13 525]]\n",
      "              precision    recall  f1-score   support\n",
      "\n",
      "           0       0.87      0.40      0.54       217\n",
      "           1       0.80      0.98      0.88       538\n",
      "\n",
      "    accuracy                           0.81       755\n",
      "   macro avg       0.83      0.69      0.71       755\n",
      "weighted avg       0.82      0.81      0.78       755\n",
      "\n"
     ]
    },
    {
     "name": "stderr",
     "output_type": "stream",
     "text": [
      "/Users/dansumetsky/Projects/env/lib/python3.7/site-packages/sklearn/linear_model/logistic.py:432: FutureWarning: Default solver will be changed to 'lbfgs' in 0.22. Specify a solver to silence this warning.\n",
      "  FutureWarning)\n",
      "/Users/dansumetsky/Projects/env/lib/python3.7/site-packages/sklearn/utils/validation.py:724: DataConversionWarning: A column-vector y was passed when a 1d array was expected. Please change the shape of y to (n_samples, ), for example using ravel().\n",
      "  y = column_or_1d(y, warn=True)\n"
     ]
    }
   ],
   "source": [
    "stem_tokenizer = SnowballStemmer(\"english\")\n",
    "tfidf_params = {\n",
    "            'ngram_range': (1, 2),\n",
    "            'max_features': 1000,\n",
    "            'tokenizer': stem_tokenizer,\n",
    "            'binary': True\n",
    "        }\n",
    "\n",
    "corpus = np.ravel(x_data)\n",
    "vectorizer = TfidfVectorizer(tfidf_params)\n",
    "X = vectorizer.fit_transform(corpus)\n",
    "\n",
    "#splitting into training and testing sets\n",
    "\n",
    "X_train, X_test, y_train, y_test = train_test_split(X, y_data, test_size=0.25)\n",
    "\n",
    "#Logistic Regression\n",
    "\n",
    "logreg = LogisticRegression()\n",
    "logreg.fit(X_train,y_train)\n",
    "y_pred=logreg.predict(X_test)\n",
    "\n",
    "\n",
    "cnf_matrix = metrics.confusion_matrix(y_test, y_pred)\n",
    "print(cnf_matrix)\n",
    "print(metrics.classification_report(y_pred=y_pred, y_true=y_test))"
   ]
  },
  {
   "cell_type": "code",
   "execution_count": 6,
   "metadata": {
    "collapsed": true
   },
   "outputs": [
    {
     "name": "stdout",
     "output_type": "stream",
     "text": [
      "10987\n"
     ]
    }
   ],
   "source": [
    "#Extracting text data from pos and neg files and labeling the texts with the correct labels.\n",
    "#Then splitting the data into x data and y data\n",
    "\n",
    "neg = pd.read_csv('coursehero/neg.csv')\n",
    "pos = pd.read_csv('coursehero/pos.csv')\n",
    "\n",
    "y_neg = np.zeros((len(neg),1)).astype(int)\n",
    "y_pos = np.ones((len(pos),1)).astype(int)\n",
    "\n",
    "print(len(y_neg)+len(y_pos))\n",
    "\n",
    "neg_messages = neg.values[:,[9]]\n",
    "pos_messages = pos.values[:,[10]]\n",
    "\n",
    "x_data = np.vstack((neg_messages,pos_messages))\n",
    "y_data = np.vstack((y_neg,y_pos))"
   ]
  },
  {
   "cell_type": "code",
   "execution_count": 8,
   "metadata": {
    "collapsed": true
   },
   "outputs": [
    {
     "name": "stdout",
     "output_type": "stream",
     "text": [
      "[[2419   12]\n",
      " [ 286   30]]\n",
      "              precision    recall  f1-score   support\n",
      "\n",
      "           0       0.89      1.00      0.94      2431\n",
      "           1       0.71      0.09      0.17       316\n",
      "\n",
      "    accuracy                           0.89      2747\n",
      "   macro avg       0.80      0.55      0.55      2747\n",
      "weighted avg       0.87      0.89      0.85      2747\n",
      "\n"
     ]
    },
    {
     "name": "stderr",
     "output_type": "stream",
     "text": [
      "/Users/dansumetsky/Projects/env/lib/python3.7/site-packages/sklearn/linear_model/logistic.py:432: FutureWarning: Default solver will be changed to 'lbfgs' in 0.22. Specify a solver to silence this warning.\n",
      "  FutureWarning)\n",
      "/Users/dansumetsky/Projects/env/lib/python3.7/site-packages/sklearn/utils/validation.py:724: DataConversionWarning: A column-vector y was passed when a 1d array was expected. Please change the shape of y to (n_samples, ), for example using ravel().\n",
      "  y = column_or_1d(y, warn=True)\n"
     ]
    }
   ],
   "source": [
    "#The SnowballStemmer is able to tokenize words so that they are represented as vectors. Each word was turned into\n",
    "#a vector and that became my x data.\n",
    "\n",
    "stem_tokenizer = SnowballStemmer(\"english\")\n",
    "tfidf_params = {\n",
    "            'ngram_range': (1, 2),\n",
    "            'max_features': 1000,\n",
    "            'tokenizer': BertTokenizer.from_pretrained('bert-base-cased', do_lower_case=False),\n",
    "            'binary': True\n",
    "        }\n",
    "\n",
    "corpus = np.ravel(x_data)\n",
    "vectorizer = TfidfVectorizer(tfidf_params)\n",
    "X = vectorizer.fit_transform(corpus)\n",
    "\n",
    "#splitting into training and testing sets\n",
    "\n",
    "X_train, X_test, y_train, y_test = train_test_split(X, y_data, test_size=0.25)\n",
    "\n",
    "#Logistic Regression\n",
    "\n",
    "logreg = LogisticRegression()\n",
    "logreg.fit(X_train,y_train)\n",
    "y_pred=logreg.predict(X_test)\n",
    "\n",
    "\n",
    "cnf_matrix = metrics.confusion_matrix(y_test, y_pred)\n",
    "print(cnf_matrix)\n",
    "print(metrics.classification_report(y_pred=y_pred, y_true=y_test))"
   ]
  },
  {
   "cell_type": "code",
   "execution_count": null,
   "metadata": {},
   "outputs": [],
   "source": []
  }
 ],
 "metadata": {
  "kernelspec": {
   "display_name": "Python 3",
   "language": "python",
   "name": "python3"
  },
  "language_info": {
   "codemirror_mode": {
    "name": "ipython",
    "version": 3
   },
   "file_extension": ".py",
   "mimetype": "text/x-python",
   "name": "python",
   "nbconvert_exporter": "python",
   "pygments_lexer": "ipython3",
   "version": "3.7.4"
  }
 },
 "nbformat": 4,
 "nbformat_minor": 2
}
